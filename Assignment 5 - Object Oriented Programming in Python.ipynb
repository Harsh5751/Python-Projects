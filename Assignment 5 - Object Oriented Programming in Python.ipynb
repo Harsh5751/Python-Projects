{
 "cells": [
  {
   "cell_type": "markdown",
   "metadata": {},
   "source": [
    "Before you turn this problem in, make sure everything runs as expected. First, **restart the kernel** (in the menubar, select Kernel$\\rightarrow$Restart) and then **run all cells** (in the menubar, select Cell$\\rightarrow$Run All).\n",
    "\n",
    "Make sure you fill in any place that says `YOUR CODE HERE` or \"YOUR ANSWER HERE\", as well as your name and collaborators below:"
   ]
  },
  {
   "cell_type": "code",
   "execution_count": 1,
   "metadata": {},
   "outputs": [],
   "source": [
    "NAME = \"Harsh Patel\""
   ]
  },
  {
   "cell_type": "markdown",
   "metadata": {},
   "source": [
    "---"
   ]
  },
  {
   "cell_type": "markdown",
   "metadata": {
    "deletable": false,
    "editable": false,
    "nbgrader": {
     "checksum": "5e0ea0d54d9ca15bb404cc119c8da795",
     "grade": false,
     "grade_id": "major_5_v4_title",
     "locked": true,
     "schema_version": 1,
     "solution": false
    }
   },
   "source": [
    "# <center>Major Assignment 5 Version 4</center>\n",
    "-------------\n",
    "<b><center>ENGINEER 1D04</center><b>\n",
    "<b><center>Dr. Ashgar Bokhari</center><b>\n",
    "<b><center>McMaster University, Fall 2017</center><b>"
   ]
  },
  {
   "cell_type": "markdown",
   "metadata": {
    "deletable": false,
    "editable": false,
    "nbgrader": {
     "checksum": "03bdfa5b1552a0333655966d137663a2",
     "grade": false,
     "grade_id": "major_5_v4_instructions",
     "locked": true,
     "schema_version": 1,
     "solution": false
    }
   },
   "source": [
    "## Background\n",
    "----------------\n",
    "In physics, many kinematics problems can be simply modelled using a particle, or point mass, approximation. A one-dimensional particle with mass $m$ travels in only one direction, and has a position $r$, velocity $v$, and acceleration $a$ that change over time.\n",
    "\n",
    " In a numerical simulation of a particle, the flow of time is approximated by using intervals. For a period of time $t$ split into $n$ intervals, the change in time over each interval is given by $\\Delta t = \\frac{t}{n}$. The smaller $\\Delta t$ is ($n$ is large), the better the approximation becomes. For a given time interval $\\Delta t$, the position $r$ and velocity $v$ for a particle are updated as follows:\n",
    "$$r_{\\mathit{new}} = r_{\\mathit{last}} + v_{\\mathit{last}}\\cdot\\Delta t + \\frac{1}{2}\\cdot a \\cdot \\Delta t^2$$\n",
    "$$v_{\\mathit{new}} = v_{\\mathit{last}} + a \\cdot \\Delta t$$\n",
    "\n",
    "where $r_{\\mathit{new}}$ and $v_{\\mathit{new}}$ are the new (updated) position and velocity of the particle, and $r_{\\mathit{last}}$ and $v_{\\mathit{last}}$ are the position and velocity during the last interval.\n",
    "\n",
    "This program will simulate a particle being fired from a cannon into the air, then being pulled back to the ground by gravity. A mass $m$ will experience an initial energy input $E$, setting its velocity according to the following equation:\n",
    "$$v = \\sqrt{\\frac{2\\cdot E}{m}}$$\n",
    "                                    \n",
    "Design, implement, and test a program that satisfies the requirements below.\n",
    "\n",
    "-------------------\n",
    "## Requirements\n",
    "1. The library includes a Python class named `Particle1D`. (Note: **1** in Particle**1**D is the number one) <br><br>\n",
    "\n",
    "2. The `__init__` method for `Particle1D` takes first formal parameter `self` and four numbers $m$, $r_0$, $v_0$, and $a_0$ as input **in that order**, and stores each of them as a class instance variable. $m$, $r$, $v$ and $a$ represent the mass, starting position, starting velocity, and starting acceleration of the particle, respectively.<br><br>\n",
    "\n",
    "3. The class contains accessors for $m$, $r$, $v$, and $a$. The names of the accessors are `getM()`, `getR()`, `getV()` and `getA()`, respectively. <br><br>\n",
    "\n",
    "4. The class contains a mutator `update(self, delta_t)` that has a first formal parameter `self` and a normal parameter time interval $\\Delta t$ , and updates $r$ and $v$ according to the formulas above. Be careful not to use $v_{\\mathit{new}}$ in the calculation for $r_{\\mathit{new}}$.<br><br>\n",
    "\n",
    "5. The class contains a method `isOnGround(self)`, that has first formal parameter `self` and returns `True` if $r \\le 0$, and `False` otherwise.<br><br>\n",
    "\n",
    "6.  The class contains a mutator `fireCannon(self, energy):` that has a first formal parameter `self` and a normal parameter $energy$, and sets $v$ according to the energy formula above. Note that $v$ is re-calculated directly from $E$, and $m$.<br><br>\n",
    "\n",
    "7. **Outside** the class there should be a function `runCannonSim(delta_t, energy, gravity, mass)` that takes a time interval $\\Delta t$, a float `energy`, a float `gravity`, and a float `mass` as input, and simulates a mass being fired from a cannon into the air. First, a `Particle1D` object is created with mass `mass`, initial position `0`, initial velocity `0`, and initial acceleration `gravity`. The particle is then fired from the cannon using `energy` and `fireCannon`. The simulation will run until the particle hits the ground ($r\\le0$). Each \"cycle\" of the simulation recalculates the position and velocity of the particle using $\\Delta t$ and `update`. The function should return a list containing the starting point of the particle, and its new position ($r$) at the end of each cycle. For example, if the particle has a `mass` = 10, `energy` = 1000 and `delta_t` = 0.4, the returned list will look something like: `[0.0, 8.177708498984762, 9.914562748477142, 10.083416997969522, 8.6842712474619, 5.71712549695428, 1.1819797464466593, -4.921166004060961]`.<br><br>\n",
    "\n",
    "8. The program requires very little besides the function definitions. There is no main().<br><br>\n",
    "\n",
    "9. Your name, MacID, student number, and the date are given in comments at the top of the first Python cell below.<br><br>\n",
    "\n",
    "10. Your answers to the design questions and test plan are given in the appropriate Markdown cells below.<br><br>\n",
    "\n",
    "11. Your program MUST have valid Python syntax and it must run without errors. Ensure that your program runs properly by running it before you submit.<br><br>\n",
    "\n",
    "12. You must sign out with a TA or IAI after you have submitted your lab at the submission station. Failure to do so could result in a mark of zero.\n",
    "------------------\n",
    "## Design and Implementation Instructions\n",
    "\n",
    "1. You may assume that inputs will be within a valid range and of the correct type, and that exception handling is not necessary.<br><br>\n",
    "2. Follow the function syntax **EXACTLY** as given, including spelling, capitalization and the order of function paramaters.\n",
    "\n",
    "------------------"
   ]
  },
  {
   "cell_type": "markdown",
   "metadata": {
    "deletable": false,
    "editable": false,
    "nbgrader": {
     "checksum": "660121f48978edd30a43e4fcb1e8ab1e",
     "grade": false,
     "grade_id": "particle1D_title",
     "locked": true,
     "schema_version": 1,
     "solution": false
    }
   },
   "source": [
    "## Particle1D Class with runSpringSim(p, cycles, delta_t, k) function - (10 marks)"
   ]
  },
  {
   "cell_type": "code",
   "execution_count": 60,
   "metadata": {
    "collapsed": true,
    "deletable": false,
    "nbgrader": {
     "checksum": "d93d11aca3c5d5aafe516cba3ae4ae1a",
     "grade": false,
     "grade_id": "particle1D",
     "locked": false,
     "schema_version": 1,
     "solution": true
    }
   },
   "outputs": [],
   "source": [
    "class Particle1D:\n",
    "    \n",
    "    def __init__(self,m,r0,v0,a0):#constructor\n",
    "        self.m=m\n",
    "        self.r=r0\n",
    "        self.v=v0\n",
    "        self.a=a0\n",
    "    \n",
    "    #accessors\n",
    "    def getM(self):\n",
    "        return self.m\n",
    "    def getR(self):\n",
    "        return self.r\n",
    "    def getV(self):\n",
    "        return self.v\n",
    "    def getA(self):\n",
    "        return self.a\n",
    "    \n",
    "    #mutators\n",
    "    def update(self,dt):#changes both r and v values\n",
    "        self.r = self.r + self.v*dt + 0.5*self.a*(dt**2)\n",
    "        self.v = self.v + self.a*dt\n",
    "        \n",
    "    def isOnGround(self):# r<=0 is already an expression that would equate to True or False, so I just returned that expression\n",
    "        return self.r<=0\n",
    "    \n",
    "    def fireCannon(self,energy):#calculates new v\n",
    "        self.v = ((2*energy)/self.m)**0.5\n",
    "        \n",
    "\n",
    "def runCannonSim(dt,energy,gravity,mass):\n",
    "    \n",
    "    rlist=[0.0]#creating a list that will later be returned with initial position 0\n",
    "    p1 = Particle1D(mass,0,0,gravity)#creating a new particle\n",
    "    p1.fireCannon(energy)#updating new velocity with fire cannon\n",
    "    p1.update(dt)#updating the first time after fireCannon\n",
    "    \n",
    "    while not(p1.isOnGround()):#while loop to repeat until it lands on ground\n",
    "        p1.update(dt)\n",
    "        rlist.append(p1.getR())#add the updated r value to list\n",
    "    \n",
    "    return rlist"
   ]
  },
  {
   "cell_type": "code",
   "execution_count": 61,
   "metadata": {
    "deletable": false,
    "editable": false,
    "nbgrader": {
     "checksum": "fef120e9e04733155f1db9b8a9272688",
     "grade": true,
     "grade_id": "particle1D_tests",
     "locked": true,
     "points": 10,
     "schema_version": 1,
     "solution": false
    }
   },
   "outputs": [
    {
     "name": "stdout",
     "output_type": "stream",
     "text": [
      "Tests Successful\n"
     ]
    }
   ],
   "source": [
    "test_particle_1 = Particle1D(1, 0, 2, 0)\n",
    "test_particle_2 = Particle1D(2.5, -1.5, -1.5, 2)\n",
    "test_particle_3 = Particle1D(4,1,1,2)\n",
    "test_particle_4 = Particle1D(1,-1,0,0)\n",
    "\n",
    "test_particle_1.update(0.1)\n",
    "test_particle_2.update(0.2)\n",
    "assert test_particle_1.getM() == 1\n",
    "assert test_particle_1.getR() == 0.2\n",
    "assert test_particle_1.getV() == 2\n",
    "assert test_particle_1.getA() == 0\n",
    "assert test_particle_2.getM() == 2.5\n",
    "assert test_particle_2.getR() == -1.76\n",
    "assert test_particle_2.getV() == -1.1\n",
    "assert test_particle_2.getA() == 2.0\n",
    "\n",
    "assert test_particle_4.isOnGround() == True\n",
    "\n",
    "test_particle_3.fireCannon(18)\n",
    "assert test_particle_3.getM() == 4\n",
    "assert test_particle_3.getR() == 1\n",
    "assert test_particle_3.getV() == 3\n",
    "assert test_particle_3.getA() == 2\n",
    "\n",
    "assert runCannonSim(0.4, 1000, -9.8, 10) == [0.0, 8.177708498984762, 9.914562748477142, 10.083416997969522, 8.6842712474619, 5.71712549695428, 1.1819797464466593, -4.921166004060961]\n",
    "assert runCannonSim(0.6, 400, -4.9, 5) == [0.0, 11.650932768808222, 14.830399153212333, 16.245865537616442, 15.897331922020554, 13.784798306424666, 9.908264690828778, 4.2677310752328905, -3.136802540362997]\n",
    "assert runCannonSim(0.1, 0, -3, 2) == [0.0]\n",
    "print(\"Tests Successful\")"
   ]
  },
  {
   "cell_type": "markdown",
   "metadata": {
    "deletable": false,
    "editable": false,
    "nbgrader": {
     "checksum": "f939e92ac10a8673f88ded0f8e371123",
     "grade": false,
     "grade_id": "cell-f637736208f35db3",
     "locked": true,
     "schema_version": 1,
     "solution": false
    }
   },
   "source": [
    "## Code Legibility (3 Points)\n",
    "----------\n",
    "Your code will be marked on commenting and code legibility.<br\\>\n",
    "The mark breakdown is as follows:<br\\>\n",
    "1 mark for using appropriate variable names that indicate what is being stored in that variable<br\\>\n",
    "1 mark for leaving comments on major parts of your code such as where you read the file or calculate a summation<br\\>\n",
    "1 mark for general legibility. The TA's should be able to understand your code without spending hours reading it. For example do not put your code in one very long line as this is hard for someone else reading your code to understand\n",
    "\n",
    "<h6>Ignore the empty cell below. You do NOT need to type anything in it </h6>"
   ]
  },
  {
   "cell_type": "markdown",
   "metadata": {
    "deletable": false,
    "nbgrader": {
     "checksum": "f053607f8378be7e60fca2bb84f5fbc9",
     "grade": true,
     "grade_id": "cell-921fcfa085debad8",
     "locked": false,
     "points": 3,
     "schema_version": 1,
     "solution": true
    }
   },
   "source": [
    "jsh"
   ]
  },
  {
   "cell_type": "markdown",
   "metadata": {
    "deletable": false,
    "editable": false,
    "nbgrader": {
     "checksum": "c01cd7ca609c6cfcdf10af11d31bec78",
     "grade": false,
     "grade_id": "major_5_v4_dq",
     "locked": true,
     "schema_version": 1,
     "solution": false
    }
   },
   "source": [
    "## Design Question (4 Points)\n",
    "--------------\n",
    "1. What is represented by the list of values that `runCannonSim` outputs? What would be a good use for this list?\n",
    "2. Is it possible to create an object of class `Particle1D` inside a method of class `Particle1D`?\n",
    "3. What is the difference between an accessor and a constructor?\n",
    "4. When calling `fireCannon`, is it necessary to pass in the parameter `self`?\n",
    "\n",
    "Enter your answers into the Markdown cell below."
   ]
  },
  {
   "cell_type": "markdown",
   "metadata": {
    "deletable": false,
    "nbgrader": {
     "checksum": "a088ed4c4fa92ea5797861b1cfd05081",
     "grade": true,
     "grade_id": "major_5_v4_dq_answers",
     "locked": false,
     "points": 4,
     "schema_version": 1,
     "solution": true
    }
   },
   "source": [
    "1. runCannonSim outputs a list of the positions of the particle being fired for every time interval, dt, until it hits the ground. A good use for this list would be graphing. We can plot the position of the particle vs. time by using the matplotlib library, since we already know dt and can create a list corresponding to that. The x-list would be the time values, and the y-list would be the list returned by runCannonSim.\n",
    "\n",
    "2. Yes it is. You can call the constructor of a class inside a method of the class itself.\n",
    "\n",
    "3. An accessor just returns a value such as a class instance variable. On the other hand, the constructor generally defines the class instance variables, giving them their initial values. The constructor also cannot return anything other than None, whereas accessors can.\n",
    "\n",
    "4. No it is not, self is already implied when calling a method in a class. It is a formal parameter and does not have to be accounted for when calling a class method."
   ]
  },
  {
   "cell_type": "markdown",
   "metadata": {
    "deletable": false,
    "editable": false,
    "nbgrader": {
     "checksum": "350a31a5aaf0ff4876b27cb8d41d295c",
     "grade": false,
     "grade_id": "major_5_v4_test_plan",
     "locked": true,
     "schema_version": 1,
     "solution": false
    }
   },
   "source": [
    "## Testing Plan (3 Points)\n",
    "---------------\n",
    "Produce a test plan in the Markdown cell below, in the following form:\n",
    "\n",
    "`Test i for function j\n",
    "Input: inputs for function j\n",
    "Expected Output: expected output for function j\n",
    "Actual Output: actual output for function j\n",
    "Result: Pass/Fail\n",
    "`\n",
    "\n",
    "Note: The actual output should be what the program produces, even if your output does not match the expected output.\n",
    "\n",
    "You must have $NO$ $LESS$ $THAN$ $3$ $TEST$ $CASES$. Have at least 1 case where your program does not output an error. For the other cases, we encourage you to try and find test cases where your program would output an error (not mandatory, just recommended). That is, where the expected output is an error."
   ]
  },
  {
   "cell_type": "markdown",
   "metadata": {
    "deletable": false,
    "nbgrader": {
     "checksum": "315734220e8f6196223046f035f5f8f7",
     "grade": true,
     "grade_id": "major_5_v4_test_plan_answers",
     "locked": false,
     "points": 3,
     "schema_version": 1,
     "solution": true
    }
   },
   "source": [
    "Test cases 1-4 are for an object: P1 = Particle1D(4,2,6,1)\n",
    "\n",
    "1.\n",
    "Test 1 for function getM(self)\n",
    "Input: None\n",
    "Expected Output: 4\n",
    "Actual Output: 4\n",
    "Result: Pass\n",
    "\n",
    "2.\n",
    "Test 1 for update(self,dt)\n",
    "Input: update(2)\n",
    "Expected Output: None, it is a mutator and does not return anything, however the corresponding R and V values should be 16, and\n",
    "                 8 respectively\n",
    "Actual Output: None, getR() was 16.0 and getV() was 8\n",
    "Result: Pass\n",
    "\n",
    "3.\n",
    "Test 2 for update(self,dt)\n",
    "Input: update([2])\n",
    "Expected Output: TypeError, since it expects an integer or float value in the calculations for Rnew and Vnew\n",
    "Actual Output: TypeError: unsupported operand type(s) for \\*\\* or pow(): 'list' and 'int'\n",
    "Result: Pass\n",
    "\n",
    "4.\n",
    "Test 1 for isOnGround(self)\n",
    "Input: isOnGround(4)\n",
    "Expected Output: Error, since the isOnGround(self) function does not accept any normal parameters\n",
    "Actual Output: TypeError: isOnGround() takes 1 positional argument but 2 were given\n",
    "Result: Pass\n",
    "\n",
    "5.\n",
    "Test 1 for runCannonSim(dt,energy,gravity,mass)\n",
    "Input: runCannonSim(2,3,6,-4)\n",
    "Expected Output: Some mathematical error, since mass is used in a square root calculation and therefore cannot be negative\n",
    "Actual Output: TypeError: unorderable types: complex() <= int()\n",
    "Result: Pass    (The type of error was not correct but the logic in why the error occured was correct)"
   ]
  }
 ],
 "metadata": {
  "kernelspec": {
   "display_name": "Python 3",
   "language": "python",
   "name": "python3"
  },
  "language_info": {
   "codemirror_mode": {
    "name": "ipython",
    "version": 3
   },
   "file_extension": ".py",
   "mimetype": "text/x-python",
   "name": "python",
   "nbconvert_exporter": "python",
   "pygments_lexer": "ipython3",
   "version": "3.6.4"
  }
 },
 "nbformat": 4,
 "nbformat_minor": 2
}
